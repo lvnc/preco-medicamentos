{
 "cells": [
  {
   "cell_type": "markdown",
   "metadata": {},
   "source": [
    "## Imports"
   ]
  },
  {
   "cell_type": "code",
   "execution_count": 1,
   "metadata": {},
   "outputs": [],
   "source": [
    "import requests\n",
    "\n",
    "# biblioteca para manipulação e análise de dados\n",
    "import pandas as pd\n",
    "\n",
    "# O pandas normalmente limita a quantidade de colunas que sao apresentadas visualmente nos dataframes\n",
    "# essa linha so faz com que nao haja esse limite, ja que a base possui 40 colunas\n",
    "pd.options.display.max_columns = None"
   ]
  },
  {
   "cell_type": "markdown",
   "metadata": {},
   "source": [
    "# PREÇOS DE MEDICAMENTOS"
   ]
  },
  {
   "cell_type": "markdown",
   "metadata": {},
   "source": [
    "# Download"
   ]
  },
  {
   "cell_type": "code",
   "execution_count": 2,
   "metadata": {},
   "outputs": [],
   "source": [
    "url = 'https://dados.anvisa.gov.br/dados/TA_PRECO_MEDICAMENTO.csv'\n",
    "response = requests.get(url)\n",
    "filename = url.split('/')[-1]\n",
    "\n",
    "# download do arquivo .csv\n",
    "with open (filename, 'wb') as file:\n",
    "    file.write(response.content)"
   ]
  },
  {
   "cell_type": "markdown",
   "metadata": {},
   "source": [
    "## Read"
   ]
  },
  {
   "cell_type": "code",
   "execution_count": 3,
   "metadata": {},
   "outputs": [],
   "source": [
    "database = pd.read_csv('./TA_PRECO_MEDICAMENTO.csv', sep=';', low_memory = False, decimal = ',')"
   ]
  },
  {
   "cell_type": "markdown",
   "metadata": {},
   "source": [
    "### Tamanho"
   ]
  },
  {
   "cell_type": "code",
   "execution_count": 4,
   "metadata": {},
   "outputs": [
    {
     "data": {
      "text/plain": [
       "(25224, 40)"
      ]
     },
     "execution_count": 4,
     "metadata": {},
     "output_type": "execute_result"
    }
   ],
   "source": [
    "# (rows, columns)\n",
    "database.shape"
   ]
  },
  {
   "cell_type": "markdown",
   "metadata": {},
   "source": [
    "### Colunas"
   ]
  },
  {
   "cell_type": "code",
   "execution_count": 5,
   "metadata": {},
   "outputs": [
    {
     "data": {
      "text/plain": [
       "Index(['SUBSTÂNCIA', 'CNPJ', 'LABORATÓRIO', 'CÓDIGO GGREM', 'REGISTRO',\n",
       "       'EAN 1', 'EAN 2', 'EAN 3', 'PRODUTO', 'APRESENTAÇÃO',\n",
       "       'CLASSE TERAPÊUTICA', 'TIPO DE PRODUTO (STATUS DO PRODUTO)',\n",
       "       'REGIME DE PREÇO', 'PF Sem Impostos', 'PF 0%', 'PF 12%', 'PF 17%',\n",
       "       'PF 17% ALC', 'PF 17,5%', 'PF 17,5% ALC', 'PF 18%', 'PF 18% ALC',\n",
       "       'PF 20%', 'PMC 0%', 'PMC 12%', 'PMC 17%', 'PMC 17% ALC', 'PMC 17,5%',\n",
       "       'PMC 17,5% ALC', 'PMC 18%', 'PMC 18% ALC', 'PMC 20%',\n",
       "       'RESTRIÇÃO HOSPITALAR', 'CAP', 'CONFAZ 87', 'ICMS 0%',\n",
       "       'ANÁLISE RECURSAL',\n",
       "       'LISTA DE CONCESSÃO DE CRÉDITO TRIBUTÁRIO (PIS/COFINS)',\n",
       "       'COMERCIALIZAÇÃO 2018', 'TARJA'],\n",
       "      dtype='object')"
      ]
     },
     "execution_count": 5,
     "metadata": {},
     "output_type": "execute_result"
    }
   ],
   "source": [
    "database.columns"
   ]
  },
  {
   "cell_type": "markdown",
   "metadata": {},
   "source": [
    "### Amostra"
   ]
  },
  {
   "cell_type": "code",
   "execution_count": 6,
   "metadata": {},
   "outputs": [
    {
     "data": {
      "text/html": [
       "<div>\n",
       "<style scoped>\n",
       "    .dataframe tbody tr th:only-of-type {\n",
       "        vertical-align: middle;\n",
       "    }\n",
       "\n",
       "    .dataframe tbody tr th {\n",
       "        vertical-align: top;\n",
       "    }\n",
       "\n",
       "    .dataframe thead th {\n",
       "        text-align: right;\n",
       "    }\n",
       "</style>\n",
       "<table border=\"1\" class=\"dataframe\">\n",
       "  <thead>\n",
       "    <tr style=\"text-align: right;\">\n",
       "      <th></th>\n",
       "      <th>SUBSTÂNCIA</th>\n",
       "      <th>CNPJ</th>\n",
       "      <th>LABORATÓRIO</th>\n",
       "      <th>CÓDIGO GGREM</th>\n",
       "      <th>REGISTRO</th>\n",
       "      <th>EAN 1</th>\n",
       "      <th>EAN 2</th>\n",
       "      <th>EAN 3</th>\n",
       "      <th>PRODUTO</th>\n",
       "      <th>APRESENTAÇÃO</th>\n",
       "      <th>CLASSE TERAPÊUTICA</th>\n",
       "      <th>TIPO DE PRODUTO (STATUS DO PRODUTO)</th>\n",
       "      <th>REGIME DE PREÇO</th>\n",
       "      <th>PF Sem Impostos</th>\n",
       "      <th>PF 0%</th>\n",
       "      <th>PF 12%</th>\n",
       "      <th>PF 17%</th>\n",
       "      <th>PF 17% ALC</th>\n",
       "      <th>PF 17,5%</th>\n",
       "      <th>PF 17,5% ALC</th>\n",
       "      <th>PF 18%</th>\n",
       "      <th>PF 18% ALC</th>\n",
       "      <th>PF 20%</th>\n",
       "      <th>PMC 0%</th>\n",
       "      <th>PMC 12%</th>\n",
       "      <th>PMC 17%</th>\n",
       "      <th>PMC 17% ALC</th>\n",
       "      <th>PMC 17,5%</th>\n",
       "      <th>PMC 17,5% ALC</th>\n",
       "      <th>PMC 18%</th>\n",
       "      <th>PMC 18% ALC</th>\n",
       "      <th>PMC 20%</th>\n",
       "      <th>RESTRIÇÃO HOSPITALAR</th>\n",
       "      <th>CAP</th>\n",
       "      <th>CONFAZ 87</th>\n",
       "      <th>ICMS 0%</th>\n",
       "      <th>ANÁLISE RECURSAL</th>\n",
       "      <th>LISTA DE CONCESSÃO DE CRÉDITO TRIBUTÁRIO (PIS/COFINS)</th>\n",
       "      <th>COMERCIALIZAÇÃO 2018</th>\n",
       "      <th>TARJA</th>\n",
       "    </tr>\n",
       "  </thead>\n",
       "  <tbody>\n",
       "    <tr>\n",
       "      <th>0</th>\n",
       "      <td>CEFALOTINA SÓDICA</td>\n",
       "      <td>04.301.884/0001-75</td>\n",
       "      <td>AUROBINDO PHARMA INDÚSTRIA FARMACÊUTICA LIMITADA</td>\n",
       "      <td>500100106155118</td>\n",
       "      <td>1516700060050</td>\n",
       "      <td>7.898362e+12</td>\n",
       "      <td>NaN</td>\n",
       "      <td>NaN</td>\n",
       "      <td>CEFALOTINA SÓDICA</td>\n",
       "      <td>1G PÓ P/ SOL INJ CT 50 FA VD INC (EMB HOSP)</td>\n",
       "      <td>J01D2 - CEFALOSPORINAS INJETÁVEIS</td>\n",
       "      <td>Genérico</td>\n",
       "      <td>Regulado</td>\n",
       "      <td>209.28</td>\n",
       "      <td>209.28</td>\n",
       "      <td>237.82</td>\n",
       "      <td>252.15</td>\n",
       "      <td>252.15</td>\n",
       "      <td>253.67</td>\n",
       "      <td>253.67</td>\n",
       "      <td>255.22</td>\n",
       "      <td>255.22</td>\n",
       "      <td>261.60</td>\n",
       "      <td>NaN</td>\n",
       "      <td>NaN</td>\n",
       "      <td>NaN</td>\n",
       "      <td>NaN</td>\n",
       "      <td>NaN</td>\n",
       "      <td>NaN</td>\n",
       "      <td>NaN</td>\n",
       "      <td>NaN</td>\n",
       "      <td>NaN</td>\n",
       "      <td>Sim</td>\n",
       "      <td>Não</td>\n",
       "      <td>Não</td>\n",
       "      <td>Não</td>\n",
       "      <td>NaN</td>\n",
       "      <td>POSITIVA</td>\n",
       "      <td>Sim</td>\n",
       "      <td>Tarja Vermelha</td>\n",
       "    </tr>\n",
       "    <tr>\n",
       "      <th>1</th>\n",
       "      <td>CEFAZOLINA SÓDICA</td>\n",
       "      <td>04.301.884/0001-75</td>\n",
       "      <td>AUROBINDO PHARMA INDÚSTRIA FARMACÊUTICA LIMITADA</td>\n",
       "      <td>500100204157115</td>\n",
       "      <td>1516700030038</td>\n",
       "      <td>7.898362e+12</td>\n",
       "      <td>NaN</td>\n",
       "      <td>NaN</td>\n",
       "      <td>CEFAZOLINA SÓDICA</td>\n",
       "      <td>1 G PÓ P/ SOL INJ CT 50 FA VD INC (EMB HOSP)</td>\n",
       "      <td>J01D2 - CEFALOSPORINAS INJETÁVEIS</td>\n",
       "      <td>Genérico</td>\n",
       "      <td>Regulado</td>\n",
       "      <td>413.28</td>\n",
       "      <td>413.28</td>\n",
       "      <td>469.64</td>\n",
       "      <td>497.93</td>\n",
       "      <td>497.93</td>\n",
       "      <td>500.95</td>\n",
       "      <td>500.95</td>\n",
       "      <td>504.00</td>\n",
       "      <td>504.00</td>\n",
       "      <td>516.60</td>\n",
       "      <td>NaN</td>\n",
       "      <td>NaN</td>\n",
       "      <td>NaN</td>\n",
       "      <td>NaN</td>\n",
       "      <td>NaN</td>\n",
       "      <td>NaN</td>\n",
       "      <td>NaN</td>\n",
       "      <td>NaN</td>\n",
       "      <td>NaN</td>\n",
       "      <td>Sim</td>\n",
       "      <td>Não</td>\n",
       "      <td>Não</td>\n",
       "      <td>Não</td>\n",
       "      <td>NaN</td>\n",
       "      <td>POSITIVA</td>\n",
       "      <td>Sim</td>\n",
       "      <td>Tarja Vermelha</td>\n",
       "    </tr>\n",
       "    <tr>\n",
       "      <th>2</th>\n",
       "      <td>CEFOTAXIMA SÓDICA</td>\n",
       "      <td>04.301.884/0001-75</td>\n",
       "      <td>AUROBINDO PHARMA INDÚSTRIA FARMACÊUTICA LIMITADA</td>\n",
       "      <td>500100310151117</td>\n",
       "      <td>1516700050063</td>\n",
       "      <td>7.898362e+12</td>\n",
       "      <td>NaN</td>\n",
       "      <td>NaN</td>\n",
       "      <td>CEFOTAXIMA SÓDICA</td>\n",
       "      <td>1 G PÓ P/ SOL INJ CT 50 FA VD INC (EMB HOSP)</td>\n",
       "      <td>J01D2 - CEFALOSPORINAS INJETÁVEIS</td>\n",
       "      <td>Genérico</td>\n",
       "      <td>Regulado</td>\n",
       "      <td>1529.87</td>\n",
       "      <td>1529.87</td>\n",
       "      <td>1738.48</td>\n",
       "      <td>1843.21</td>\n",
       "      <td>1843.21</td>\n",
       "      <td>1854.38</td>\n",
       "      <td>1854.38</td>\n",
       "      <td>1865.69</td>\n",
       "      <td>1865.69</td>\n",
       "      <td>1912.33</td>\n",
       "      <td>NaN</td>\n",
       "      <td>NaN</td>\n",
       "      <td>NaN</td>\n",
       "      <td>NaN</td>\n",
       "      <td>NaN</td>\n",
       "      <td>NaN</td>\n",
       "      <td>NaN</td>\n",
       "      <td>NaN</td>\n",
       "      <td>NaN</td>\n",
       "      <td>Sim</td>\n",
       "      <td>Não</td>\n",
       "      <td>Não</td>\n",
       "      <td>Não</td>\n",
       "      <td>NaN</td>\n",
       "      <td>POSITIVA</td>\n",
       "      <td>Sim</td>\n",
       "      <td>Tarja Vermelha</td>\n",
       "    </tr>\n",
       "    <tr>\n",
       "      <th>3</th>\n",
       "      <td>CLORIDRATO DE CIPROFLOXACINO MONOIDRATADO</td>\n",
       "      <td>04.301.884/0001-75</td>\n",
       "      <td>AUROBINDO PHARMA INDÚSTRIA FARMACÊUTICA LIMITADA</td>\n",
       "      <td>500100410113111</td>\n",
       "      <td>1516700070099</td>\n",
       "      <td>7.898362e+12</td>\n",
       "      <td>NaN</td>\n",
       "      <td>NaN</td>\n",
       "      <td>CLORIDRATO DE CIPROFLOXACINO</td>\n",
       "      <td>500 MG COM REV CT 2 BL AL PLAS INC X 07</td>\n",
       "      <td>J01G1 - FLUORQUINOLONAS ORAIS</td>\n",
       "      <td>Genérico</td>\n",
       "      <td>Regulado</td>\n",
       "      <td>21.90</td>\n",
       "      <td>21.90</td>\n",
       "      <td>24.89</td>\n",
       "      <td>26.39</td>\n",
       "      <td>26.39</td>\n",
       "      <td>26.55</td>\n",
       "      <td>26.55</td>\n",
       "      <td>26.71</td>\n",
       "      <td>26.71</td>\n",
       "      <td>27.38</td>\n",
       "      <td>30.28</td>\n",
       "      <td>34.41</td>\n",
       "      <td>36.48</td>\n",
       "      <td>36.48</td>\n",
       "      <td>36.70</td>\n",
       "      <td>36.70</td>\n",
       "      <td>36.93</td>\n",
       "      <td>36.93</td>\n",
       "      <td>37.85</td>\n",
       "      <td>Não</td>\n",
       "      <td>Não</td>\n",
       "      <td>Sim</td>\n",
       "      <td>Não</td>\n",
       "      <td>NaN</td>\n",
       "      <td>POSITIVA</td>\n",
       "      <td>Sim</td>\n",
       "      <td>Tarja Vermelha</td>\n",
       "    </tr>\n",
       "    <tr>\n",
       "      <th>4</th>\n",
       "      <td>CEFALEXINA</td>\n",
       "      <td>04.301.884/0001-75</td>\n",
       "      <td>AUROBINDO PHARMA INDÚSTRIA FARMACÊUTICA LIMITADA</td>\n",
       "      <td>500100801112111</td>\n",
       "      <td>1516700080035</td>\n",
       "      <td>7.898362e+12</td>\n",
       "      <td>NaN</td>\n",
       "      <td>NaN</td>\n",
       "      <td>CEFALEXINA</td>\n",
       "      <td>500 MG COM REV CT BL AL PVC/PVDC INC X 8</td>\n",
       "      <td>J01D1 - CEFALOSPORINAS ORAIS</td>\n",
       "      <td>Genérico</td>\n",
       "      <td>Regulado</td>\n",
       "      <td>9.94</td>\n",
       "      <td>9.94</td>\n",
       "      <td>11.29</td>\n",
       "      <td>11.97</td>\n",
       "      <td>11.97</td>\n",
       "      <td>12.05</td>\n",
       "      <td>12.05</td>\n",
       "      <td>12.12</td>\n",
       "      <td>12.12</td>\n",
       "      <td>12.42</td>\n",
       "      <td>13.74</td>\n",
       "      <td>15.61</td>\n",
       "      <td>16.55</td>\n",
       "      <td>16.55</td>\n",
       "      <td>16.66</td>\n",
       "      <td>16.66</td>\n",
       "      <td>16.76</td>\n",
       "      <td>16.76</td>\n",
       "      <td>17.17</td>\n",
       "      <td>Não</td>\n",
       "      <td>Não</td>\n",
       "      <td>Não</td>\n",
       "      <td>Não</td>\n",
       "      <td>NaN</td>\n",
       "      <td>POSITIVA</td>\n",
       "      <td>Sim</td>\n",
       "      <td>Tarja Vermelha</td>\n",
       "    </tr>\n",
       "  </tbody>\n",
       "</table>\n",
       "</div>"
      ],
      "text/plain": [
       "                                  SUBSTÂNCIA                CNPJ  \\\n",
       "0                          CEFALOTINA SÓDICA  04.301.884/0001-75   \n",
       "1                          CEFAZOLINA SÓDICA  04.301.884/0001-75   \n",
       "2                          CEFOTAXIMA SÓDICA  04.301.884/0001-75   \n",
       "3  CLORIDRATO DE CIPROFLOXACINO MONOIDRATADO  04.301.884/0001-75   \n",
       "4                                 CEFALEXINA  04.301.884/0001-75   \n",
       "\n",
       "                                        LABORATÓRIO     CÓDIGO GGREM  \\\n",
       "0  AUROBINDO PHARMA INDÚSTRIA FARMACÊUTICA LIMITADA  500100106155118   \n",
       "1  AUROBINDO PHARMA INDÚSTRIA FARMACÊUTICA LIMITADA  500100204157115   \n",
       "2  AUROBINDO PHARMA INDÚSTRIA FARMACÊUTICA LIMITADA  500100310151117   \n",
       "3  AUROBINDO PHARMA INDÚSTRIA FARMACÊUTICA LIMITADA  500100410113111   \n",
       "4  AUROBINDO PHARMA INDÚSTRIA FARMACÊUTICA LIMITADA  500100801112111   \n",
       "\n",
       "        REGISTRO         EAN 1  EAN 2  EAN 3                       PRODUTO  \\\n",
       "0  1516700060050  7.898362e+12    NaN    NaN             CEFALOTINA SÓDICA   \n",
       "1  1516700030038  7.898362e+12    NaN    NaN             CEFAZOLINA SÓDICA   \n",
       "2  1516700050063  7.898362e+12    NaN    NaN             CEFOTAXIMA SÓDICA   \n",
       "3  1516700070099  7.898362e+12    NaN    NaN  CLORIDRATO DE CIPROFLOXACINO   \n",
       "4  1516700080035  7.898362e+12    NaN    NaN                    CEFALEXINA   \n",
       "\n",
       "                                   APRESENTAÇÃO  \\\n",
       "0   1G PÓ P/ SOL INJ CT 50 FA VD INC (EMB HOSP)   \n",
       "1  1 G PÓ P/ SOL INJ CT 50 FA VD INC (EMB HOSP)   \n",
       "2  1 G PÓ P/ SOL INJ CT 50 FA VD INC (EMB HOSP)   \n",
       "3       500 MG COM REV CT 2 BL AL PLAS INC X 07   \n",
       "4      500 MG COM REV CT BL AL PVC/PVDC INC X 8   \n",
       "\n",
       "                  CLASSE TERAPÊUTICA TIPO DE PRODUTO (STATUS DO PRODUTO)  \\\n",
       "0  J01D2 - CEFALOSPORINAS INJETÁVEIS                            Genérico   \n",
       "1  J01D2 - CEFALOSPORINAS INJETÁVEIS                            Genérico   \n",
       "2  J01D2 - CEFALOSPORINAS INJETÁVEIS                            Genérico   \n",
       "3      J01G1 - FLUORQUINOLONAS ORAIS                            Genérico   \n",
       "4       J01D1 - CEFALOSPORINAS ORAIS                            Genérico   \n",
       "\n",
       "  REGIME DE PREÇO  PF Sem Impostos    PF 0%   PF 12%   PF 17%  PF 17% ALC  \\\n",
       "0        Regulado           209.28   209.28   237.82   252.15      252.15   \n",
       "1        Regulado           413.28   413.28   469.64   497.93      497.93   \n",
       "2        Regulado          1529.87  1529.87  1738.48  1843.21     1843.21   \n",
       "3        Regulado            21.90    21.90    24.89    26.39       26.39   \n",
       "4        Regulado             9.94     9.94    11.29    11.97       11.97   \n",
       "\n",
       "   PF 17,5%  PF 17,5% ALC   PF 18%  PF 18% ALC   PF 20%  PMC 0%  PMC 12%  \\\n",
       "0    253.67        253.67   255.22      255.22   261.60     NaN      NaN   \n",
       "1    500.95        500.95   504.00      504.00   516.60     NaN      NaN   \n",
       "2   1854.38       1854.38  1865.69     1865.69  1912.33     NaN      NaN   \n",
       "3     26.55         26.55    26.71       26.71    27.38   30.28    34.41   \n",
       "4     12.05         12.05    12.12       12.12    12.42   13.74    15.61   \n",
       "\n",
       "   PMC 17%  PMC 17% ALC  PMC 17,5%  PMC 17,5% ALC  PMC 18%  PMC 18% ALC  \\\n",
       "0      NaN          NaN        NaN            NaN      NaN          NaN   \n",
       "1      NaN          NaN        NaN            NaN      NaN          NaN   \n",
       "2      NaN          NaN        NaN            NaN      NaN          NaN   \n",
       "3    36.48        36.48      36.70          36.70    36.93        36.93   \n",
       "4    16.55        16.55      16.66          16.66    16.76        16.76   \n",
       "\n",
       "   PMC 20% RESTRIÇÃO HOSPITALAR  CAP CONFAZ 87 ICMS 0% ANÁLISE RECURSAL  \\\n",
       "0      NaN                  Sim  Não       Não     Não              NaN   \n",
       "1      NaN                  Sim  Não       Não     Não              NaN   \n",
       "2      NaN                  Sim  Não       Não     Não              NaN   \n",
       "3    37.85                  Não  Não       Sim     Não              NaN   \n",
       "4    17.17                  Não  Não       Não     Não              NaN   \n",
       "\n",
       "  LISTA DE CONCESSÃO DE CRÉDITO TRIBUTÁRIO (PIS/COFINS) COMERCIALIZAÇÃO 2018  \\\n",
       "0                                           POSITIVA                     Sim   \n",
       "1                                           POSITIVA                     Sim   \n",
       "2                                           POSITIVA                     Sim   \n",
       "3                                           POSITIVA                     Sim   \n",
       "4                                           POSITIVA                     Sim   \n",
       "\n",
       "            TARJA  \n",
       "0  Tarja Vermelha  \n",
       "1  Tarja Vermelha  \n",
       "2  Tarja Vermelha  \n",
       "3  Tarja Vermelha  \n",
       "4  Tarja Vermelha  "
      ]
     },
     "execution_count": 6,
     "metadata": {},
     "output_type": "execute_result"
    }
   ],
   "source": [
    "database.head()"
   ]
  },
  {
   "cell_type": "markdown",
   "metadata": {},
   "source": [
    "## (a) O produto com o maior preço de fábrica sem impostos"
   ]
  },
  {
   "cell_type": "markdown",
   "metadata": {},
   "source": [
    "#### Maior preço"
   ]
  },
  {
   "cell_type": "code",
   "execution_count": 7,
   "metadata": {},
   "outputs": [],
   "source": [
    "# Identifica maior preço da coluna\n",
    "maiorPreco = database['PF Sem Impostos'].max()"
   ]
  },
  {
   "cell_type": "code",
   "execution_count": 8,
   "metadata": {},
   "outputs": [
    {
     "name": "stdout",
     "output_type": "stream",
     "text": [
      "R$ 1197574.08\n"
     ]
    }
   ],
   "source": [
    "print('R$', maiorPreco)"
   ]
  },
  {
   "cell_type": "markdown",
   "metadata": {},
   "source": [
    "#### Produto com maior Preço"
   ]
  },
  {
   "cell_type": "code",
   "execution_count": 9,
   "metadata": {},
   "outputs": [],
   "source": [
    "# Seleciona um dataframe apenas com a(s) linha(s) que apresenta(m) o maior preço\n",
    "produtoMaiorPreco = database[ database['PF Sem Impostos'] == maiorPreco ]"
   ]
  },
  {
   "cell_type": "code",
   "execution_count": 10,
   "metadata": {},
   "outputs": [
    {
     "data": {
      "text/plain": [
       "['SOFOSBUVIR']"
      ]
     },
     "execution_count": 10,
     "metadata": {},
     "output_type": "execute_result"
    }
   ],
   "source": [
    "# Nome do(s) produto(s)\n",
    "list(produtoMaiorPreco['PRODUTO'])"
   ]
  },
  {
   "cell_type": "markdown",
   "metadata": {},
   "source": [
    "#### Dado do produto"
   ]
  },
  {
   "cell_type": "code",
   "execution_count": 11,
   "metadata": {},
   "outputs": [
    {
     "data": {
      "text/html": [
       "<div>\n",
       "<style scoped>\n",
       "    .dataframe tbody tr th:only-of-type {\n",
       "        vertical-align: middle;\n",
       "    }\n",
       "\n",
       "    .dataframe tbody tr th {\n",
       "        vertical-align: top;\n",
       "    }\n",
       "\n",
       "    .dataframe thead th {\n",
       "        text-align: right;\n",
       "    }\n",
       "</style>\n",
       "<table border=\"1\" class=\"dataframe\">\n",
       "  <thead>\n",
       "    <tr style=\"text-align: right;\">\n",
       "      <th></th>\n",
       "      <th>SUBSTÂNCIA</th>\n",
       "      <th>CNPJ</th>\n",
       "      <th>LABORATÓRIO</th>\n",
       "      <th>CÓDIGO GGREM</th>\n",
       "      <th>REGISTRO</th>\n",
       "      <th>EAN 1</th>\n",
       "      <th>EAN 2</th>\n",
       "      <th>EAN 3</th>\n",
       "      <th>PRODUTO</th>\n",
       "      <th>APRESENTAÇÃO</th>\n",
       "      <th>CLASSE TERAPÊUTICA</th>\n",
       "      <th>TIPO DE PRODUTO (STATUS DO PRODUTO)</th>\n",
       "      <th>REGIME DE PREÇO</th>\n",
       "      <th>PF Sem Impostos</th>\n",
       "      <th>PF 0%</th>\n",
       "      <th>PF 12%</th>\n",
       "      <th>PF 17%</th>\n",
       "      <th>PF 17% ALC</th>\n",
       "      <th>PF 17,5%</th>\n",
       "      <th>PF 17,5% ALC</th>\n",
       "      <th>PF 18%</th>\n",
       "      <th>PF 18% ALC</th>\n",
       "      <th>PF 20%</th>\n",
       "      <th>PMC 0%</th>\n",
       "      <th>PMC 12%</th>\n",
       "      <th>PMC 17%</th>\n",
       "      <th>PMC 17% ALC</th>\n",
       "      <th>PMC 17,5%</th>\n",
       "      <th>PMC 17,5% ALC</th>\n",
       "      <th>PMC 18%</th>\n",
       "      <th>PMC 18% ALC</th>\n",
       "      <th>PMC 20%</th>\n",
       "      <th>RESTRIÇÃO HOSPITALAR</th>\n",
       "      <th>CAP</th>\n",
       "      <th>CONFAZ 87</th>\n",
       "      <th>ICMS 0%</th>\n",
       "      <th>ANÁLISE RECURSAL</th>\n",
       "      <th>LISTA DE CONCESSÃO DE CRÉDITO TRIBUTÁRIO (PIS/COFINS)</th>\n",
       "      <th>COMERCIALIZAÇÃO 2018</th>\n",
       "      <th>TARJA</th>\n",
       "    </tr>\n",
       "  </thead>\n",
       "  <tbody>\n",
       "    <tr>\n",
       "      <th>23087</th>\n",
       "      <td>SOFOSBUVIR</td>\n",
       "      <td>53.359.824/0004-61</td>\n",
       "      <td>BLANVER FARMOQUIMICA E FARMACEUTICA S.A.</td>\n",
       "      <td>541018070000206</td>\n",
       "      <td>1152400050026</td>\n",
       "      <td>7.898582e+12</td>\n",
       "      <td>NaN</td>\n",
       "      <td>NaN</td>\n",
       "      <td>SOFOSBUVIR</td>\n",
       "      <td>400 MG COM REV CX 50 FR PLAS OPC X 28</td>\n",
       "      <td>J05B1 - PRODUTOS PARA HEPATITES VIRAIS</td>\n",
       "      <td>Genérico</td>\n",
       "      <td>Regulado</td>\n",
       "      <td>1197574.08</td>\n",
       "      <td>1341283.18</td>\n",
       "      <td>1549970.07</td>\n",
       "      <td>1657460.77</td>\n",
       "      <td>1442859.22</td>\n",
       "      <td>1669036.28</td>\n",
       "      <td>1451604.31</td>\n",
       "      <td>1680776.5</td>\n",
       "      <td>1460455.27</td>\n",
       "      <td>1729438.34</td>\n",
       "      <td>1799283.63</td>\n",
       "      <td>2070425.3</td>\n",
       "      <td>2209270.18</td>\n",
       "      <td>1994668.23</td>\n",
       "      <td>2224189.54</td>\n",
       "      <td>2006757.8</td>\n",
       "      <td>2239312.56</td>\n",
       "      <td>2018993.73</td>\n",
       "      <td>2301940.03</td>\n",
       "      <td>Não</td>\n",
       "      <td>Sim</td>\n",
       "      <td>Não</td>\n",
       "      <td>Não</td>\n",
       "      <td>NaN</td>\n",
       "      <td>NEGATIVA</td>\n",
       "      <td>Sim</td>\n",
       "      <td>Tarja Vermelha</td>\n",
       "    </tr>\n",
       "  </tbody>\n",
       "</table>\n",
       "</div>"
      ],
      "text/plain": [
       "       SUBSTÂNCIA                CNPJ  \\\n",
       "23087  SOFOSBUVIR  53.359.824/0004-61   \n",
       "\n",
       "                                    LABORATÓRIO     CÓDIGO GGREM  \\\n",
       "23087  BLANVER FARMOQUIMICA E FARMACEUTICA S.A.  541018070000206   \n",
       "\n",
       "            REGISTRO         EAN 1  EAN 2  EAN 3     PRODUTO  \\\n",
       "23087  1152400050026  7.898582e+12    NaN    NaN  SOFOSBUVIR   \n",
       "\n",
       "                                APRESENTAÇÃO  \\\n",
       "23087  400 MG COM REV CX 50 FR PLAS OPC X 28   \n",
       "\n",
       "                           CLASSE TERAPÊUTICA  \\\n",
       "23087  J05B1 - PRODUTOS PARA HEPATITES VIRAIS   \n",
       "\n",
       "      TIPO DE PRODUTO (STATUS DO PRODUTO) REGIME DE PREÇO  PF Sem Impostos  \\\n",
       "23087                            Genérico        Regulado       1197574.08   \n",
       "\n",
       "            PF 0%      PF 12%      PF 17%  PF 17% ALC    PF 17,5%  \\\n",
       "23087  1341283.18  1549970.07  1657460.77  1442859.22  1669036.28   \n",
       "\n",
       "       PF 17,5% ALC     PF 18%  PF 18% ALC      PF 20%      PMC 0%    PMC 12%  \\\n",
       "23087    1451604.31  1680776.5  1460455.27  1729438.34  1799283.63  2070425.3   \n",
       "\n",
       "          PMC 17%  PMC 17% ALC   PMC 17,5%  PMC 17,5% ALC     PMC 18%  \\\n",
       "23087  2209270.18   1994668.23  2224189.54      2006757.8  2239312.56   \n",
       "\n",
       "       PMC 18% ALC     PMC 20% RESTRIÇÃO HOSPITALAR  CAP CONFAZ 87 ICMS 0%  \\\n",
       "23087   2018993.73  2301940.03                  Não  Sim       Não     Não   \n",
       "\n",
       "      ANÁLISE RECURSAL LISTA DE CONCESSÃO DE CRÉDITO TRIBUTÁRIO (PIS/COFINS)  \\\n",
       "23087              NaN                                           NEGATIVA      \n",
       "\n",
       "      COMERCIALIZAÇÃO 2018           TARJA  \n",
       "23087                  Sim  Tarja Vermelha  "
      ]
     },
     "execution_count": 11,
     "metadata": {},
     "output_type": "execute_result"
    }
   ],
   "source": [
    "# Apresenta todos os dados da(s) linha(s) que apresenta(m) o maior preço\n",
    "produtoMaiorPreco"
   ]
  },
  {
   "cell_type": "markdown",
   "metadata": {},
   "source": [
    "## (b) Possíveis tipos de Produtos"
   ]
  },
  {
   "cell_type": "code",
   "execution_count": 12,
   "metadata": {},
   "outputs": [
    {
     "data": {
      "text/plain": [
       "['Genérico',\n",
       " 'Novo (Referência)',\n",
       " 'Novo',\n",
       " 'Específico',\n",
       " 'Similar',\n",
       " 'Biológicos',\n",
       " 'Similar (Referência)',\n",
       " 'Genérico (Referência)',\n",
       " 'Biológico Novo',\n",
       " 'Específico (Referência)',\n",
       " 'Radiofármaco']"
      ]
     },
     "execution_count": 12,
     "metadata": {},
     "output_type": "execute_result"
    }
   ],
   "source": [
    "list(database['TIPO DE PRODUTO (STATUS DO PRODUTO)'].unique())"
   ]
  },
  {
   "cell_type": "markdown",
   "metadata": {},
   "source": [
    "#### Quantidade de produtos em cada tipo"
   ]
  },
  {
   "cell_type": "code",
   "execution_count": 13,
   "metadata": {},
   "outputs": [
    {
     "data": {
      "text/plain": [
       "Genérico                   8762\n",
       "Similar                    8679\n",
       "Novo (Referência)          2855\n",
       "Específico                 1800\n",
       "Novo                       1443\n",
       "Biológicos                 1213\n",
       "Similar (Referência)        330\n",
       "Genérico (Referência)        82\n",
       "Biológico Novo               58\n",
       "Radiofármaco                  1\n",
       "Específico (Referência)       1\n",
       "Name: TIPO DE PRODUTO (STATUS DO PRODUTO), dtype: int64"
      ]
     },
     "execution_count": 13,
     "metadata": {},
     "output_type": "execute_result"
    }
   ],
   "source": [
    "database['TIPO DE PRODUTO (STATUS DO PRODUTO)'].value_counts()"
   ]
  },
  {
   "cell_type": "markdown",
   "metadata": {},
   "source": [
    "## (c) O genérico mais barato"
   ]
  },
  {
   "cell_type": "code",
   "execution_count": 14,
   "metadata": {},
   "outputs": [],
   "source": [
    "# dataframe apenas com produtos dos tipos Genericos\n",
    "\n",
    "# produtos do tipo Genérico (Referência) não foram incluídos\n",
    "\n",
    "df_genericos = database[ (database['TIPO DE PRODUTO (STATUS DO PRODUTO)'] == 'Genérico') ]"
   ]
  },
  {
   "cell_type": "code",
   "execution_count": 15,
   "metadata": {},
   "outputs": [
    {
     "data": {
      "text/plain": [
       "(8762, 40)"
      ]
     },
     "execution_count": 15,
     "metadata": {},
     "output_type": "execute_result"
    }
   ],
   "source": [
    "df_genericos.shape"
   ]
  },
  {
   "cell_type": "markdown",
   "metadata": {},
   "source": [
    "#### Preço"
   ]
  },
  {
   "cell_type": "code",
   "execution_count": 16,
   "metadata": {},
   "outputs": [],
   "source": [
    "# verifica o mais barato dentre os genéricos\n",
    "maisBarato = df_genericos['PF Sem Impostos'].min()"
   ]
  },
  {
   "cell_type": "code",
   "execution_count": 17,
   "metadata": {},
   "outputs": [
    {
     "name": "stdout",
     "output_type": "stream",
     "text": [
      "R$ 0.51\n"
     ]
    }
   ],
   "source": [
    "print('R$', maisBarato)"
   ]
  },
  {
   "cell_type": "markdown",
   "metadata": {},
   "source": [
    "#### Produto"
   ]
  },
  {
   "cell_type": "code",
   "execution_count": 18,
   "metadata": {},
   "outputs": [],
   "source": [
    "# Seleciona um dataframe apenas com a(s) linha(s) que apresenta(m) o menor preço entre os genéricos\n",
    "genericoMaisBarato = df_genericos[ df_genericos['PF Sem Impostos'] == maisBarato ]"
   ]
  },
  {
   "cell_type": "code",
   "execution_count": 19,
   "metadata": {},
   "outputs": [
    {
     "data": {
      "text/plain": [
       "['METILSULFATO DE NEOSTIGMINA']"
      ]
     },
     "execution_count": 19,
     "metadata": {},
     "output_type": "execute_result"
    }
   ],
   "source": [
    "# Nome do(s) produto(s)\n",
    "list(genericoMaisBarato['PRODUTO'])"
   ]
  },
  {
   "cell_type": "markdown",
   "metadata": {},
   "source": [
    "#### Dados do produto"
   ]
  },
  {
   "cell_type": "code",
   "execution_count": 20,
   "metadata": {},
   "outputs": [
    {
     "data": {
      "text/html": [
       "<div>\n",
       "<style scoped>\n",
       "    .dataframe tbody tr th:only-of-type {\n",
       "        vertical-align: middle;\n",
       "    }\n",
       "\n",
       "    .dataframe tbody tr th {\n",
       "        vertical-align: top;\n",
       "    }\n",
       "\n",
       "    .dataframe thead th {\n",
       "        text-align: right;\n",
       "    }\n",
       "</style>\n",
       "<table border=\"1\" class=\"dataframe\">\n",
       "  <thead>\n",
       "    <tr style=\"text-align: right;\">\n",
       "      <th></th>\n",
       "      <th>SUBSTÂNCIA</th>\n",
       "      <th>CNPJ</th>\n",
       "      <th>LABORATÓRIO</th>\n",
       "      <th>CÓDIGO GGREM</th>\n",
       "      <th>REGISTRO</th>\n",
       "      <th>EAN 1</th>\n",
       "      <th>EAN 2</th>\n",
       "      <th>EAN 3</th>\n",
       "      <th>PRODUTO</th>\n",
       "      <th>APRESENTAÇÃO</th>\n",
       "      <th>CLASSE TERAPÊUTICA</th>\n",
       "      <th>TIPO DE PRODUTO (STATUS DO PRODUTO)</th>\n",
       "      <th>REGIME DE PREÇO</th>\n",
       "      <th>PF Sem Impostos</th>\n",
       "      <th>PF 0%</th>\n",
       "      <th>PF 12%</th>\n",
       "      <th>PF 17%</th>\n",
       "      <th>PF 17% ALC</th>\n",
       "      <th>PF 17,5%</th>\n",
       "      <th>PF 17,5% ALC</th>\n",
       "      <th>PF 18%</th>\n",
       "      <th>PF 18% ALC</th>\n",
       "      <th>PF 20%</th>\n",
       "      <th>PMC 0%</th>\n",
       "      <th>PMC 12%</th>\n",
       "      <th>PMC 17%</th>\n",
       "      <th>PMC 17% ALC</th>\n",
       "      <th>PMC 17,5%</th>\n",
       "      <th>PMC 17,5% ALC</th>\n",
       "      <th>PMC 18%</th>\n",
       "      <th>PMC 18% ALC</th>\n",
       "      <th>PMC 20%</th>\n",
       "      <th>RESTRIÇÃO HOSPITALAR</th>\n",
       "      <th>CAP</th>\n",
       "      <th>CONFAZ 87</th>\n",
       "      <th>ICMS 0%</th>\n",
       "      <th>ANÁLISE RECURSAL</th>\n",
       "      <th>LISTA DE CONCESSÃO DE CRÉDITO TRIBUTÁRIO (PIS/COFINS)</th>\n",
       "      <th>COMERCIALIZAÇÃO 2018</th>\n",
       "      <th>TARJA</th>\n",
       "    </tr>\n",
       "  </thead>\n",
       "  <tbody>\n",
       "    <tr>\n",
       "      <th>3252</th>\n",
       "      <td>METILSULFATO DE NEOSTIGMINA</td>\n",
       "      <td>58.430.828/0001-60</td>\n",
       "      <td>BLAU FARMACÊUTICA S.A.</td>\n",
       "      <td>504416030054806</td>\n",
       "      <td>1163701340010</td>\n",
       "      <td>7.896015e+12</td>\n",
       "      <td>NaN</td>\n",
       "      <td>NaN</td>\n",
       "      <td>METILSULFATO DE NEOSTIGMINA</td>\n",
       "      <td>0,5 MG/ML SOL INJ CT AMP VD TRANS X 1 ML</td>\n",
       "      <td>N07X0 - TODOS OS OUTROS PRODUTOS PARA O SISTEM...</td>\n",
       "      <td>Genérico</td>\n",
       "      <td>Regulado</td>\n",
       "      <td>0.51</td>\n",
       "      <td>0.51</td>\n",
       "      <td>0.58</td>\n",
       "      <td>0.61</td>\n",
       "      <td>0.61</td>\n",
       "      <td>0.62</td>\n",
       "      <td>0.62</td>\n",
       "      <td>0.62</td>\n",
       "      <td>0.62</td>\n",
       "      <td>0.64</td>\n",
       "      <td>0.71</td>\n",
       "      <td>0.8</td>\n",
       "      <td>0.84</td>\n",
       "      <td>0.84</td>\n",
       "      <td>0.86</td>\n",
       "      <td>0.86</td>\n",
       "      <td>0.86</td>\n",
       "      <td>0.86</td>\n",
       "      <td>0.88</td>\n",
       "      <td>Não</td>\n",
       "      <td>Não</td>\n",
       "      <td>Não</td>\n",
       "      <td>Não</td>\n",
       "      <td>NaN</td>\n",
       "      <td>POSITIVA</td>\n",
       "      <td>Não</td>\n",
       "      <td>Tarja Vermelha</td>\n",
       "    </tr>\n",
       "  </tbody>\n",
       "</table>\n",
       "</div>"
      ],
      "text/plain": [
       "                       SUBSTÂNCIA                CNPJ             LABORATÓRIO  \\\n",
       "3252  METILSULFATO DE NEOSTIGMINA  58.430.828/0001-60  BLAU FARMACÊUTICA S.A.   \n",
       "\n",
       "         CÓDIGO GGREM       REGISTRO         EAN 1  EAN 2  EAN 3  \\\n",
       "3252  504416030054806  1163701340010  7.896015e+12    NaN    NaN   \n",
       "\n",
       "                          PRODUTO                              APRESENTAÇÃO  \\\n",
       "3252  METILSULFATO DE NEOSTIGMINA  0,5 MG/ML SOL INJ CT AMP VD TRANS X 1 ML   \n",
       "\n",
       "                                     CLASSE TERAPÊUTICA  \\\n",
       "3252  N07X0 - TODOS OS OUTROS PRODUTOS PARA O SISTEM...   \n",
       "\n",
       "     TIPO DE PRODUTO (STATUS DO PRODUTO) REGIME DE PREÇO  PF Sem Impostos  \\\n",
       "3252                            Genérico        Regulado             0.51   \n",
       "\n",
       "      PF 0%  PF 12%  PF 17%  PF 17% ALC  PF 17,5%  PF 17,5% ALC  PF 18%  \\\n",
       "3252   0.51    0.58    0.61        0.61      0.62          0.62    0.62   \n",
       "\n",
       "      PF 18% ALC  PF 20%  PMC 0%  PMC 12%  PMC 17%  PMC 17% ALC  PMC 17,5%  \\\n",
       "3252        0.62    0.64    0.71      0.8     0.84         0.84       0.86   \n",
       "\n",
       "      PMC 17,5% ALC  PMC 18%  PMC 18% ALC  PMC 20% RESTRIÇÃO HOSPITALAR  CAP  \\\n",
       "3252           0.86     0.86         0.86     0.88                  Não  Não   \n",
       "\n",
       "     CONFAZ 87 ICMS 0% ANÁLISE RECURSAL  \\\n",
       "3252       Não     Não              NaN   \n",
       "\n",
       "     LISTA DE CONCESSÃO DE CRÉDITO TRIBUTÁRIO (PIS/COFINS)  \\\n",
       "3252                                           POSITIVA      \n",
       "\n",
       "     COMERCIALIZAÇÃO 2018           TARJA  \n",
       "3252                  Não  Tarja Vermelha  "
      ]
     },
     "execution_count": 20,
     "metadata": {},
     "output_type": "execute_result"
    }
   ],
   "source": [
    "# Apresenta todos os dados da(s) linha(s) que apresenta(m) o menor preço entre os genéricos\n",
    "genericoMaisBarato"
   ]
  },
  {
   "cell_type": "markdown",
   "metadata": {},
   "source": [
    "# Salvando registros sem campos em branco"
   ]
  },
  {
   "cell_type": "markdown",
   "metadata": {},
   "source": [
    "A grande maioria das colunas EAN 2 e EAN 3 possuem campos vazios. Todas linhas possuem pelo menos algum campo vazio."
   ]
  },
  {
   "cell_type": "code",
   "execution_count": 21,
   "metadata": {},
   "outputs": [
    {
     "data": {
      "text/plain": [
       "SUBSTÂNCIA                                                   0\n",
       "CNPJ                                                         0\n",
       "LABORATÓRIO                                                  0\n",
       "CÓDIGO GGREM                                                 0\n",
       "REGISTRO                                                     0\n",
       "EAN 1                                                       15\n",
       "EAN 2                                                    25049\n",
       "EAN 3                                                    25224\n",
       "PRODUTO                                                      0\n",
       "APRESENTAÇÃO                                                 0\n",
       "CLASSE TERAPÊUTICA                                           0\n",
       "TIPO DE PRODUTO (STATUS DO PRODUTO)                          0\n",
       "REGIME DE PREÇO                                              0\n",
       "PF Sem Impostos                                              0\n",
       "PF 0%                                                        0\n",
       "PF 12%                                                     928\n",
       "PF 17%                                                     928\n",
       "PF 17% ALC                                                 928\n",
       "PF 17,5%                                                   928\n",
       "PF 17,5% ALC                                               928\n",
       "PF 18%                                                     928\n",
       "PF 18% ALC                                                 928\n",
       "PF 20%                                                     928\n",
       "PMC 0%                                                    5023\n",
       "PMC 12%                                                   5322\n",
       "PMC 17%                                                   5322\n",
       "PMC 17% ALC                                               5322\n",
       "PMC 17,5%                                                 5322\n",
       "PMC 17,5% ALC                                             5322\n",
       "PMC 18%                                                   5322\n",
       "PMC 18% ALC                                               5322\n",
       "PMC 20%                                                   5322\n",
       "RESTRIÇÃO HOSPITALAR                                         0\n",
       "CAP                                                          0\n",
       "CONFAZ 87                                                    0\n",
       "ICMS 0%                                                      0\n",
       "ANÁLISE RECURSAL                                         25219\n",
       "LISTA DE CONCESSÃO DE CRÉDITO TRIBUTÁRIO (PIS/COFINS)        0\n",
       "COMERCIALIZAÇÃO 2018                                         0\n",
       "TARJA                                                        0\n",
       "dtype: int64"
      ]
     },
     "execution_count": 21,
     "metadata": {},
     "output_type": "execute_result"
    }
   ],
   "source": [
    "# Contagem de campos vazios para cada coluna\n",
    "database.isna().sum(axis = 0)"
   ]
  },
  {
   "cell_type": "markdown",
   "metadata": {},
   "source": [
    "### Drop"
   ]
  },
  {
   "cell_type": "code",
   "execution_count": 22,
   "metadata": {},
   "outputs": [],
   "source": [
    "# drop em todas linhas que possuem campos vazios\n",
    "output = database.dropna(how = 'any')"
   ]
  },
  {
   "cell_type": "markdown",
   "metadata": {},
   "source": [
    "### Save"
   ]
  },
  {
   "cell_type": "code",
   "execution_count": 23,
   "metadata": {},
   "outputs": [],
   "source": [
    "# como o resultado é um dataframe vazio, salvará apenas as colunas no arquivo\n",
    "output.to_csv('output.csv')"
   ]
  }
 ],
 "metadata": {
  "kernelspec": {
   "display_name": "Python 3",
   "language": "python",
   "name": "python3"
  },
  "language_info": {
   "codemirror_mode": {
    "name": "ipython",
    "version": 3
   },
   "file_extension": ".py",
   "mimetype": "text/x-python",
   "name": "python",
   "nbconvert_exporter": "python",
   "pygments_lexer": "ipython3",
   "version": "3.7.3"
  }
 },
 "nbformat": 4,
 "nbformat_minor": 2
}
